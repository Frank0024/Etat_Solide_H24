{
 "cells": [
  {
   "cell_type": "markdown",
   "metadata": {},
   "source": [
    "<h1 style=\"text-align:center\">Travail pratique numérique en thermodynamique statistique</h1>\n",
    "<h2 style=\"text-align:center\">PARTIE 1 : Cinétique des gaz parfaits</h2>\n",
    "\n",
    "Veuillez indiquer le nom des membres de votre équipe dans la cellule suivante."
   ]
  },
  {
   "cell_type": "markdown",
   "metadata": {},
   "source": []
  },
  {
   "cell_type": "markdown",
   "metadata": {},
   "source": [
    "# Atelier en classe : 31 janvier 2024 #\n",
    "### Discussion interdisciplinaire de sujets en probablilité & statistiques ###\n",
    "\n",
    "**Quelques fondements de mathématiques statistiques:** par exemple bien définir variables aléatoires, échantillon et population totale, estimateurs, fonction de distribution cumulative (répartition), densité de probabilité, moments, etc. - **Programme GPH**\n",
    "\n",
    "**Les distributions statistiques de particules indiscernables:** en particulier celle de Fermi-Dirac avec les notions de potentiel chimique et d’occupation des états en fonction de la température, en analogie avec le remplissage selon le principe principe d’Aufbau introduit en classe pour les atomes à température nulle. - **Programme PHY**\n",
    "\n",
    "**_Un point de bonus sera accordé à tous les étudiantes et étudiants qui participeront à l'atelier pour discuter des sujets ci-dessus et débuter le travail de la première partie ci-dessous._**"
   ]
  },
  {
   "cell_type": "markdown",
   "metadata": {
    "nteract": {
     "transient": {
      "deleting": false
     }
    }
   },
   "source": [
    "# Introduction #\n",
    "Ce travail révise d'abord quelques bases générales de mécanique statistique classique avec le script `TDSrevision-2Dsimulation.py` qui simule la théorie cinétique des gaz parfaits en 2D. Cette simulation utilise le concept de sphères dures, mais ici pour le cas des particules d'un gaz afin d'introduire des collisions élastiques entre elles sur leurs trajectoires ballistiques. Notez qu'une sphère est colorée et grossie seulement pour l’effet visuel dans l'animation, la physique de l’algorithme codé considère bien des particules totalement identiques. Les questions sur cette simulation, à répondre directement dans les cellules du carnet _(Notebook)_ ici-même, explorent quelques paramètres de la thermodynamique statistique et introduisent de nouveaux termes utiles à l'étude de la dynamique des électrons dans la matière.\n",
    "\n",
    "_N.B._ \n",
    "- _Pour montrer les animations à l'écran, le script `TDSrevision-2Dsimulation.py` importe la librairie `VPython` qu'il faut donc installer. Des liens vers sa documentation et de l'information complémentaire sont donnés dans la médiagraphie à la fin._\n",
    "- _Le code dans ce script est abusivement commenté dans notre contexte pédagogique, mais il serait bien sûr préférable de s’en tenir aux recommandations du <a href=\"https://www.python.org/dev/peps/pep-0008\"> PEP 8 — Style Guide for Python Code</a>._\n",
    "- _Notez finalement que la boucle principale à la fin du script laisse l'utilisateur voir l'animation aussi longtemps que souhaité, assurez-vous donc de savoir comment l'interrompre correctement avant de lancer la simulation ou de la remplacer par une boucle `for`._"
   ]
  },
  {
   "cell_type": "markdown",
   "metadata": {
    "nteract": {
     "transient": {
      "deleting": false
     }
    }
   },
   "source": [
    "# Cinétique CLASSIQUE des gaz parfaits #"
   ]
  },
  {
   "cell_type": "markdown",
   "metadata": {
    "nteract": {
     "transient": {
      "deleting": false
     }
    }
   },
   "source": [
    "### Simulation 2D ###"
   ]
  },
  {
   "cell_type": "code",
   "execution_count": 1,
   "metadata": {
    "scrolled": true
   },
   "outputs": [],
   "source": [
    "#%run TDSrevision-2Dsimulation.py\n",
    "# La simulation peut être exécutée à l'extérieur du _Notebook_ bien sûr, cette cellule ne vise qu'à relier le travail qui suit au programme."
   ]
  },
  {
   "cell_type": "markdown",
   "metadata": {},
   "source": [
    "### Questions statistiques ###"
   ]
  },
  {
   "cell_type": "markdown",
   "metadata": {},
   "source": [
    "**I.** _(3 points)_  &mdash; Utilisez la liste finale des vecteurs de quantité de mouvement $\\vec{p}$ de toutes les sphères pour trouver la moyenne de son carré $\\langle p^2\\rangle=\\langle\\vec{p}\\cdot\\vec{p}\\rangle$ et l'imprimer avec la fonction `print()` dans la cellule qui suit. "
   ]
  },
  {
   "cell_type": "code",
   "execution_count": 2,
   "metadata": {},
   "outputs": [
    {
     "data": {
      "text/html": [
       "<div id=\"glowscript\" class=\"glowscript\"></div>"
      ],
      "text/plain": [
       "<IPython.core.display.HTML object>"
      ]
     },
     "metadata": {},
     "output_type": "display_data"
    },
    {
     "data": {
      "application/javascript": [
       "if (typeof Jupyter !== \"undefined\") { window.__context = { glowscript_container: $(\"#glowscript\").removeAttr(\"id\")};}else{ element.textContent = ' ';}"
      ],
      "text/plain": [
       "<IPython.core.display.Javascript object>"
      ]
     },
     "metadata": {},
     "output_type": "display_data"
    },
    {
     "name": "stdout",
     "output_type": "stream",
     "text": [
      "8.400002040995114e-47\n"
     ]
    }
   ],
   "source": [
    "from vpython import *\n",
    "import numpy as np\n",
    "pImport = [(4.72099e-24, 9.29431e-24, 0), (4.01036e-24, -2.9122e-24, 0), (1.9555e-24, -1.31463e-23, 0), (-3.94678e-24, 1.81253e-25, 0), (-8.43264e-25, -6.91697e-24, 0), (-5.11518e-24, 7.35929e-24, 0), (-2.13853e-24, 1.07141e-24, 0), (4.69602e-24, 5.19845e-24, 0), (7.36398e-24, 3.89963e-24, 0), (-1.34566e-23, 5.0691e-24, 0), (3.56264e-24, -4.51976e-25, 0), (1.03314e-23, 3.96763e-25, 0), (-3.9841e-24, -1.27964e-24, 0), (-2.40462e-24, -2.38622e-24, 0), (-2.11224e-24, -1.45645e-23, 0), (7.45929e-25, 1.72352e-23, 0), (3.61938e-24, -1.33152e-24, 0), (-3.46846e-24, 6.546e-24, 0), (-6.19346e-24, -3.61522e-24, 0), (-5.87696e-24, -2.94195e-24, 0), (6.33433e-24, 6.60555e-24, 0), (-4.50014e-24, 6.89226e-24, 0), (9.64599e-24, -8.29908e-24, 0), (-1.14789e-23, -2.60231e-24, 0), (-7.57488e-24, -3.2603e-24, 0), (-4.18999e-24, -4.08098e-24, 0), (-1.83886e-24, 5.17143e-24, 0), (7.21904e-24, -2.62426e-24, 0), (3.8133e-24, -4.8889e-24, 0), (6.53177e-24, 8.7523e-24, 0), (-3.05603e-24, 2.5848e-24, 0), (5.45126e-24, 4.61429e-24, 0), (7.70688e-24, 8.0426e-24, 0), (4.25037e-24, 6.50729e-24, 0), (-3.15447e-24, -1.05853e-24, 0), (5.09913e-24, 8.6877e-24, 0), (-5.92128e-24, -4.42198e-24, 0), (8.53672e-24, 2.93105e-24, 0), (2.42726e-24, -1.20647e-23, 0), (-1.00411e-23, 8.14552e-24, 0), (7.85505e-25, 7.04835e-24, 0), (4.51457e-24, -5.20479e-24, 0), (1.90291e-24, 3.38594e-24, 0), (-2.42911e-24, -2.48651e-24, 0), (-8.12241e-24, -6.28533e-25, 0), (7.45455e-24, 4.85244e-24, 0), (1.26321e-23, 6.90286e-24, 0), (-6.49346e-24, -4.3595e-24, 0), (-8.47456e-24, -1.24225e-23, 0), (-7.13395e-24, 1.75471e-25, 0), (6.40007e-25, -4.88878e-24, 0), (1.32312e-23, 7.72967e-24, 0), (4.74311e-24, 6.21356e-24, 0), (-3.10241e-24, 8.79963e-24, 0), (9.12839e-24, -1.94045e-24, 0), (2.41167e-24, 3.04408e-24, 0), (-8.73499e-24, -5.36221e-25, 0), (-3.94361e-24, 6.76968e-24, 0), (-1.42947e-25, 7.60672e-24, 0), (-1.03394e-23, -1.59059e-24, 0), (8.61399e-24, 3.82263e-25, 0), (5.11731e-24, 2.44548e-24, 0), (1.0395e-23, 4.05177e-24, 0), (1.64861e-23, -8.30793e-24, 0), (-4.4219e-25, 4.14594e-24, 0), (7.64381e-24, 4.3604e-26, 0), (-1.05667e-23, -7.14318e-24, 0), (-6.27864e-24, 3.64004e-24, 0), (-1.24292e-23, 7.31575e-25, 0), (-1.56335e-23, -1.04227e-25, 0), (-7.03728e-24, 2.16963e-24, 0), (9.89724e-24, 2.90258e-24, 0), (-9.0255e-25, -2.20245e-24, 0), (5.95011e-24, 2.97542e-24, 0), (-4.50071e-24, -8.98219e-24, 0), (3.19433e-24, -1.53396e-24, 0), (1.04763e-23, -9.68929e-25, 0), (-5.31885e-25, -7.05097e-24, 0), (-6.09374e-24, 4.44885e-24, 0), (-9.30834e-25, 4.84493e-24, 0), (-9.61146e-25, -1.26778e-23, 0), (1.27108e-23, -2.42353e-24, 0), (3.17867e-24, -4.05954e-24, 0), (-1.76454e-23, -1.99679e-24, 0), (-4.1055e-24, 2.80567e-24, 0), (-3.20233e-24, -1.48526e-23, 0), (-3.14657e-24, 6.28555e-24, 0), (3.12939e-24, -3.87552e-24, 0), (7.15168e-24, 4.26328e-24, 0), (-6.75995e-25, -2.69516e-24, 0), (-4.41044e-24, -2.57973e-24, 0), (-5.74684e-24, -9.79279e-24, 0), (-3.99471e-24, 8.03824e-24, 0), (9.53225e-25, 5.80909e-24, 0), (4.83635e-24, 1.14569e-23, 0), (2.30745e-24, -2.23477e-24, 0), (-3.47862e-24, 5.36928e-24, 0), (-2.70042e-25, -6.91795e-24, 0), (7.48862e-24, 1.46158e-23, 0), (-1.08048e-23, -3.1191e-24, 0), (-1.57975e-23, 7.92149e-25, 0), (6.49936e-24, -2.41982e-24, 0), (2.13518e-24, 3.45016e-24, 0), (6.54217e-24, 2.06464e-24, 0), (-9.31145e-24, 5.9271e-24, 0), (-5.37799e-24, -7.84439e-24, 0), (-1.58514e-23, -3.31768e-24, 0), (-1.27841e-24, 1.27509e-23, 0), (1.55864e-24, 1.06514e-23, 0), (1.24686e-23, -1.04811e-23, 0), (-6.81283e-24, 3.39829e-24, 0), (-2.39508e-24, -6.71497e-24, 0), (4.40814e-24, -9.23515e-24, 0), (-1.41995e-23, 2.80235e-24, 0), (-1.05715e-23, 2.17738e-24, 0), (8.55557e-24, -8.4797e-25, 0), (1.21111e-23, 1.38313e-23, 0), (3.69649e-24, -8.29518e-24, 0), (6.66201e-24, 7.94093e-24, 0), (-7.87109e-24, -2.96487e-24, 0), (-3.29747e-24, 5.73028e-24, 0), (7.73278e-24, -2.52912e-24, 0), (-1.37338e-25, 8.57189e-24, 0), (-6.79155e-24, -4.2919e-25, 0), (-2.54059e-24, -9.6399e-25, 0), (-7.01208e-25, -3.58025e-24, 0), (3.38682e-24, -5.5207e-24, 0), (2.03492e-24, -2.11483e-24, 0), (-6.05148e-24, -2.50252e-24, 0), (-7.27145e-24, 8.2438e-24, 0), (1.596e-23, 5.04135e-24, 0), (6.4861e-24, -3.791e-24, 0), (-3.35875e-24, -1.20512e-23, 0), (1.41122e-24, 1.33564e-23, 0), (-4.53172e-24, -9.84274e-24, 0), (-5.44897e-24, 1.0686e-23, 0), (2.24362e-24, -2.66841e-24, 0), (2.60235e-24, 6.43164e-24, 0), (4.94824e-24, 6.67176e-24, 0), (-5.86281e-24, -8.95002e-25, 0), (-4.66834e-24, 5.99967e-24, 0), (-1.11437e-23, 1.57083e-23, 0), (7.7005e-24, 1.55434e-25, 0), (2.3204e-24, 2.75803e-24, 0), (-9.25244e-26, 7.03958e-24, 0), (-1.8213e-24, 1.30587e-25, 0), (3.69128e-24, -1.37812e-24, 0), (-2.15502e-24, 7.81037e-24, 0), (-8.10927e-25, 5.53268e-24, 0), (-4.13488e-24, -4.21694e-24, 0), (2.68237e-24, 5.76724e-24, 0), (5.39192e-24, 9.87007e-24, 0), (-1.02298e-23, 5.66063e-24, 0), (6.07677e-25, -2.43603e-25, 0), (2.04524e-24, -8.05303e-24, 0), (-1.43489e-24, -1.45074e-24, 0), (9.99837e-24, 6.56516e-24, 0), (-4.2424e-25, 4.4803e-24, 0), (1.29585e-25, 3.29819e-24, 0), (2.47931e-24, -2.08624e-24, 0), (-8.265e-24, -4.53057e-24, 0), (-1.35431e-23, 6.86337e-24, 0), (4.82738e-24, -5.45396e-24, 0), (7.23068e-24, 1.28573e-23, 0), (-2.61507e-24, 6.86102e-26, 0), (-4.00955e-24, -4.1921e-24, 0), (-1.13299e-23, -2.73479e-24, 0), (4.10347e-25, -6.23488e-24, 0), (-1.01335e-23, 1.50126e-24, 0), (4.15056e-24, 1.93652e-24, 0), (2.33193e-24, -8.52315e-24, 0), (2.07538e-24, -1.03597e-23, 0), (4.4345e-24, 1.18601e-24, 0), (-3.20466e-25, -1.029e-24, 0), (-4.35416e-24, -7.78577e-24, 0), (-3.02673e-24, 2.5334e-24, 0), (3.25564e-24, -1.20675e-23, 0), (2.36957e-24, -9.95332e-25, 0), (1.27241e-23, 1.8679e-24, 0), (-8.9754e-24, -8.26361e-25, 0), (7.17241e-24, -9.04562e-24, 0), (-1.49401e-24, 7.55507e-24, 0), (-3.87279e-24, -3.26584e-24, 0), (-3.40853e-24, -2.70156e-24, 0), (-9.85732e-24, 4.76184e-24, 0), (-1.20001e-23, -4.73202e-24, 0), (-1.69791e-24, -1.11909e-23, 0), (2.16627e-24, -4.6767e-24, 0), (2.24916e-25, 5.26875e-24, 0), (7.69346e-24, -1.24136e-24, 0), (-9.42411e-26, 2.54483e-25, 0), (7.21539e-24, -5.59947e-24, 0), (1.20836e-23, -1.43221e-23, 0), (3.21854e-24, -2.87698e-24, 0), (1.44599e-24, -8.39571e-24, 0), (7.72387e-24, -1.10238e-24, 0), (-9.05947e-25, 7.04616e-24, 0), (-1.35064e-23, 1.22741e-23, 0), (3.21458e-24, -6.00773e-24, 0), (2.10608e-24, 6.74939e-25, 0), (5.59781e-24, 9.97502e-25, 0), (-1.53565e-24, -8.80689e-24, 0), (6.81905e-24, 6.53229e-24, 0), (-5.52779e-24, -1.18651e-23, 0), (4.50914e-25, 2.33695e-24, 0), (-1.14463e-23, -1.81461e-24, 0), (-3.55634e-25, -3.41843e-24, 0), (-8.95845e-24, -2.10509e-24, 0), (4.09182e-24, -5.25093e-24, 0), (-5.04545e-24, -5.33756e-24, 0), (-1.68667e-24, -3.58358e-24, 0), (-7.97055e-25, 2.45139e-24, 0), (-3.75131e-24, -2.85288e-24, 0), (5.22546e-25, 1.76144e-25, 0), (-4.39948e-24, 8.18384e-24, 0), (-1.4091e-23, 1.75201e-24, 0), (-1.00507e-24, 8.9654e-24, 0), (-1.01961e-24, 1.78857e-24, 0), (5.40548e-24, 2.55374e-25, 0), (-3.97471e-24, -1.16405e-23, 0), (2.90823e-24, -1.98963e-24, 0), (-1.35755e-23, -4.67852e-25, 0), (4.3955e-24, -1.18938e-23, 0), (-1.6677e-24, -5.51043e-24, 0), (-1.50285e-23, 7.54439e-24, 0), (-4.31091e-25, 1.10283e-23, 0), (-1.64972e-24, 4.37702e-24, 0), (-5.17598e-24, -1.36555e-23, 0), (-3.4996e-24, -4.68122e-24, 0), (-9.05306e-24, 7.63685e-24, 0), (-9.29849e-24, -4.48378e-25, 0), (-1.31689e-24, -1.84291e-24, 0), (3.93633e-24, -1.07627e-24, 0), (-3.7005e-24, -1.06493e-23, 0), (5.69153e-26, -6.40203e-24, 0), (-1.53158e-24, 5.85117e-24, 0), (-1.09075e-25, -2.55868e-24, 0), (9.42224e-25, -1.07018e-24, 0), (-5.70303e-24, 9.55941e-24, 0), (2.81004e-24, 7.96323e-24, 0), (4.44571e-24, 1.96245e-24, 0), (2.64486e-24, -6.46135e-24, 0), (-1.93469e-24, 4.45806e-24, 0), (-3.71883e-24, 8.43288e-24, 0), (-6.06548e-24, 6.06531e-24, 0), (-6.10994e-24, -6.19152e-24, 0), (1.16387e-23, 1.94597e-25, 0), (7.98575e-24, 4.52578e-24, 0), (-1.03467e-23, -1.30012e-24, 0), (-1.2651e-24, -1.69524e-24, 0), (3.00542e-25, -2.63555e-24, 0), (-1.24881e-23, 2.44707e-24, 0), (6.85528e-24, -1.628e-25, 0), (5.16415e-24, -4.48724e-24, 0), (-6.9839e-24, -1.03409e-24, 0), (-1.76828e-24, 8.21631e-24, 0), (-8.15098e-24, -9.87775e-24, 0), (5.29554e-25, 4.68634e-24, 0), (-5.04243e-24, 4.36137e-24, 0), (9.54725e-24, -9.57666e-25, 0), (-4.50651e-24, -4.27955e-24, 0), (-1.24722e-23, -3.25485e-24, 0), (7.52156e-24, 5.63073e-24, 0), (-1.9891e-24, 2.82909e-24, 0), (7.83594e-24, 1.6597e-24, 0), (8.38462e-24, 9.08635e-24, 0), (3.15903e-24, -7.94942e-24, 0), (-9.59742e-24, -7.64253e-24, 0), (-6.28795e-24, -2.55632e-24, 0), (7.26733e-24, -5.59815e-24, 0), (1.82838e-24, 7.19029e-24, 0), (9.62111e-24, -9.88738e-24, 0), (-3.71132e-24, 3.69234e-24, 0), (1.15764e-26, -2.9265e-24, 0), (8.48247e-24, -1.62821e-24, 0), (-3.59138e-24, 3.82583e-24, 0), (-1.55704e-24, 2.32276e-24, 0), (1.15333e-23, 5.8893e-24, 0), (-6.31388e-24, -1.40275e-23, 0), (-1.76767e-24, 4.39275e-24, 0), (-3.25057e-24, -2.77575e-24, 0), (2.90542e-24, -8.51938e-24, 0), (7.75137e-25, 3.74417e-24, 0), (1.00165e-23, -3.64692e-24, 0), (-2.40546e-24, -7.52778e-24, 0), (-9.26167e-24, -1.89177e-23, 0), (2.67578e-24, -3.04244e-25, 0), (-1.67975e-24, 4.12954e-25, 0), (-5.11017e-24, -1.24366e-24, 0), (3.19174e-24, 1.44938e-23, 0), (-9.1208e-24, 3.39807e-24, 0), (-3.39828e-24, 3.37987e-24, 0), (-2.4091e-24, 4.69343e-24, 0), (9.06926e-24, -9.47558e-25, 0), (6.03747e-24, 6.24446e-24, 0), (-1.9243e-24, -8.44152e-25, 0), (5.64834e-24, -6.60757e-24, 0), (-1.01523e-23, -2.3506e-24, 0), (3.67191e-24, -6.2231e-24, 0), (4.14432e-24, 2.78235e-24, 0)]\n",
    "p = []\n",
    "for i in pImport:\n",
    "    p.append(vector(i[0], i[1], 0))\n",
    "p_2 = []\n",
    "for vec in p:\n",
    "    p_2.append(mag2(vec))\n",
    "\n",
    "avg_p_2 = np.mean(p_2)\n",
    "print(avg_p_2)\n",
    "# 8.4e-47"
   ]
  },
  {
   "cell_type": "markdown",
   "metadata": {},
   "source": [
    "\n",
    "**II.** _(2 points)_  &mdash; La température $T$ (macroscopique) est proportionnelle à l'énergie cinétique moyenne $E_{cin}$ de l'ensemble des particules lorsque ce système est rendu à l'équilibre. Celle-ci peut se calculer classiquement selon son <a href=\"https://fr.wikipedia.org/wiki/%C3%89quipartition_de_l%27%C3%A9nergie\">principe d'équipartition</a>, _i.e._ répartissant l'énergie également sur chaque degré de liberté ici en translation seulement, d'où au total pour $i=1,2\\text{ ou } 3$ dimensions d'espace réel\n",
    "\\begin{equation}\n",
    "E_{cin}=\\frac{\\langle p^2 \\rangle}{2m}=i\\times\\frac{1}{2}k_BT\n",
    "\\end{equation}\n",
    "avec $k_B$, la constante de Boltzmann et $m$, la masse de chaque particule. Quelle est la température du gaz de sphères dures à la fin de la simulation? Est-ce qu'elle a changé significativement par rapport à sa valeur initiale?"
   ]
  },
  {
   "cell_type": "code",
   "execution_count": 3,
   "metadata": {},
   "outputs": [
    {
     "name": "stdout",
     "output_type": "stream",
     "text": [
      "Einit = 6.299999999999999e-21\n",
      "Efinal = 6.300001530746336e-21\n",
      "Einit/Efinal = 0.9999997570244501\n",
      "Température initiale = 300\n",
      "Température finale = 300.0000728926827\n",
      "Rapport T/T_final = 0.9999997570244501\n"
     ]
    }
   ],
   "source": [
    "# Déclaration de variables physiques \"Typical values\"\n",
    "mass = 4E-3/6E23 # helium mass\n",
    "Ratom = 0.01 # wildly exaggerated size of an atom\n",
    "k = 1.4E-23 # Boltzmann constant\n",
    "T = 300 # around room temperature\n",
    "\n",
    "\n",
    "Einit = (3/2)*k*T\n",
    "Efinal = avg_p_2/(2*mass)\n",
    "print(\"Einit =\", Einit)\n",
    "print(\"Efinal =\", Efinal)\n",
    "print(\"Einit/Efinal =\", Einit/Efinal)\n",
    "\n",
    "#Einit = 6.299999999999999e-21\n",
    "#Efinal = 6.300000000000001e-21\n",
    "#Einit/Efinal = 0.9999999999999998\n",
    "\n",
    "T = 300 # around room temperature\n",
    "T_final = (2/3)*avg_p_2/(2*mass*k)\n",
    "print(\"Température initiale =\", T)\n",
    "print(\"Température finale =\", T_final)\n",
    "print(\"Rapport T/T_final =\", T/T_final)\n",
    "\n",
    "#Température initiale = 300\n",
    "#Température finale = 299.9999999999999\n",
    "#Rapport T/T_final = 1.0000000000000004\n",
    "\n",
    "#La température n'a pas changé de manière significative tel qu'attendu pour ce modèle."
   ]
  },
  {
   "cell_type": "markdown",
   "metadata": {
    "nteract": {
     "transient": {
      "deleting": false
     }
    }
   },
   "source": [
    "**III.** _(10 points)_ &mdash; Modifiez le code de la simulation pour ajouter une fonction qui suit la trajectoire d'UNE SEULE particule, c'est-à-dire qu'elle doit enregistrer, dans une liste, des valeurs de variables pour cette particule et ce, à chacune de ses collisions avec une autre particule (_i.e._ excluez les collisions avec les parois de la boîte). Les deux variables scalaires à lister sont:\n",
    "- la distance que la particule a parcouru entre chaque collision,\n",
    "- le temps écoulé entre ces collisions.\n",
    "\n",
    "Copiez le code de votre fonction dans la cellule qui suit en y commentant clairement les variables pour ces listes qui devront persister après avoir interrompu l'exécution de la simulation. N'oubliez pas d'inclure votre fichier Python (`.py`) modifié avec la simulation complète lors de la remise."
   ]
  },
  {
   "cell_type": "code",
   "execution_count": 4,
   "metadata": {
    "nteract": {
     "transient": {
      "deleting": false
     }
    }
   },
   "outputs": [],
   "source": [
    "distParcouru = [] # actualisée à chaque colision\n",
    "dtCollision = [] # actualisée à chaque colision\n",
    "posParticule = [] # reset à chaque collision et incrémentée à chaque tick\n",
    "tickParticule = 0 # reset à chaque collision et incrémentée à chaque tick\n",
    "vParticule = [] # Vecteur contenant la vitesse de la particule suivie à chaque collision\n",
    "atom_id = 197\n",
    "\n",
    "def followParticule(posParticule):\n",
    "    dTot = 0\n",
    "    for i, vector in enumerate(posParticule):\n",
    "        if i+1 != len(posParticule):\n",
    "            dX = np.abs(vector.x - posParticule[i+1].x)\n",
    "            dY = np.abs(vector.y - posParticule[i+1].y)\n",
    "            dTot += np.sqrt(dX**2+dY**2)\n",
    "    return dTot\n",
    "\n",
    "# Exemple de réponse possible :\n",
    "\n",
    "# distance parcourue entre chaque collision : [0, 0.018366915990352665, 0.0759099010884474, 0.0929966926777815, 0.03359328169654027, 0.08997469025699102, 0.13043395250775527, 0.061948629884101596, 1.3673668280711884, 0.06669884021890397, 1.180707360614538, 0.6701508162985433, 0.3145510860457814, 1.24509782108234, 0.6134087641995144, 0.020879271289770004, 0.06981373380493557, 0.3832304770138317, 0.07291756397734815, 0.04371605943893324, 0.0336378860881871, 0.10776095936083216, 0.36599777026438274, 0, 0.1690784562556821, 0.038094575834455933, 0.11525895184068494, 0.07618156432766761, 0.7339514987700417, 0.08903714445042522, 0.19842025572888955, 0.019290782645854473, 0.32210139537527654, 0.32507555871939836, 0.05935447207952358, 0.17148053661970955, 0.3469622213678006, 0.05143261068295239, 0.06930514205675957, 0, 0.008447691350516932, 0.003655555870801868, 0, 0.03380643045015491, 0.11295918791154834, 0.7361448934586753]\n",
    "# nombre de tick entre chaque collision : [1, 2, 5, 9, 6, 11, 109, 7, 133, 7, 43, 27, 13, 61, 71, 3, 7, 34, 7, 5, 4, 5, 18, 1, 10, 10, 14, 9, 58, 6, 23, 2, 77, 50, 14, 11, 24, 4, 5, 1, 5, 10, 1, 11, 15, 48]  \n",
    "# Résultat après 2000 ticks\n"
   ]
  },
  {
   "cell_type": "markdown",
   "metadata": {
    "nteract": {
     "transient": {
      "deleting": false
     }
    }
   },
   "source": [
    "**IV.** _(2 points)_ &mdash; Calculez le **libre parcours moyen** $l_{moy}$ et le **temps de collision** $\\tau$ qui sont les valeurs moyennes des deux listes compilées au numéro précédent.\n",
    "\n",
    "_(Pour votre information, le libre parcours moyen est de l’ordre de 100 nm dans l'air à température et pression ambiantes, mais_ $l_{moy}$ _peut dépasser 100 000 km dans une enceinte sous vide avec les technologies de pompes modernes!)_\n",
    "\n"
   ]
  },
  {
   "cell_type": "code",
   "execution_count": 5,
   "metadata": {
    "nteract": {
     "transient": {
      "deleting": false
     }
    }
   },
   "outputs": [
    {
     "name": "stdout",
     "output_type": "stream",
     "text": [
      "I_moy =  0.3040494487097603 unités\n",
      "τ = 24.75609756097561 ticks\n"
     ]
    }
   ],
   "source": [
    "# Exemple de réponse possible :\n",
    "distParcouru = [0.375299614818726, 0.190791636035614, 1.1905405358711734, 0.09068459400828932, 0.5324413757972298, 0.028291057321370622, 0.08849215016982008, 0.31257656712533516, 0.9117078704394799, 0.4560300177779285, 0.9408639410914713, 0, 0.0895026478356976, 0.3785555372107414, 0.07121869640803409, 0.361850133635499, 0.361850133635499, 0, 0.059395446526543404, 0.10632127069581503, 0.5256101760779819, 0.07004135905832186, 0.20852531945843703, 0.20852531945843703, 0.02582317226303074, 0.01599175708804225, 0.16950698908182849, 0.19270930053513996, 0.08305392148220805, 0.06910108867521818, 0.31181095368483974, 0.13602738527965627, 1.5499669973437826, 0.007492007039815042, 0.06596161780125386, 0.1998179722029648, 0.8958729460044283, 0.11377131358244, 0.7458416109071144, 0.10571810928857403, 0.15132551019540794, 0.2734450334086132, 1.9989227521405586, 0.16441890553255492, 0.019281319410962488, 0.20886648486425996, 0.88041501085537, 0.009113655634885818, 0.22650952280909134, 0.4180936744629918, 0.019537181063163243, 0.20014216057157685, 0.02368399559019731, 0.35773028079308317, 0, 0.17758769359332374, 0.09487087201280511, 0.2254611702866018, 0, 0.04672834872039704, 0.525339559786045, 0.11736727989262637, 0.17416871704310433, 0.015952171200020827, 0.13927272253212467, 0.2240623944264091, 0.2511803938185341, 0.09721527356709744, 0, 0.6966158023041095, 0.32818779298522327, 0.5989931636929223, 0.3352286809937699, 0.1851520518338455, 0.8190685154665994, 0.04068214334256983, 0.2414662907855344, 0.6745124540927033, 0.41410641377632496, 1.1347848355479757, 0.05241354132323337, 0.12256848112594024]\n",
    "dtCollision = [37, 12, 80, 9, 26, 10, 13, 60, 77, 37, 65, 1, 11, 23, 5, 21, 21, 1, 12, 26, 41, 6, 17, 17, 4, 4, 25, 22, 11, 7, 32, 10, 60, 4, 9, 12, 57, 22, 92, 6, 8, 19, 121, 9, 2, 13, 52, 2, 39, 30, 7, 10, 3, 31, 1, 21, 11, 13, 1, 6, 59, 14, 12, 5, 13, 44, 27, 15, 1, 80, 24, 21, 15, 14, 90, 5, 17, 43, 26, 78, 11, 12]\n",
    "\n",
    "print(\"I_moy = \", np.mean(distParcouru), \"unités\")\n",
    "print(\"τ =\", np.mean(dtCollision), \"ticks\")\n",
    "# Exemple de réponse possible :"
   ]
  },
  {
   "cell_type": "markdown",
   "metadata": {
    "nteract": {
     "transient": {
      "deleting": false
     }
    }
   },
   "source": [
    "**V.** _(2 points)_ Calculez la vitesse $\\vec{v}$ de la particule entre chaque paire de collisions. Quelle est la vitesse moyenne $\\langle\\vec{v}\\rangle$ de la particule?"
   ]
  },
  {
   "cell_type": "code",
   "execution_count": 6,
   "metadata": {
    "nteract": {
     "transient": {
      "deleting": false
     }
    }
   },
   "outputs": [
    {
     "name": "stdout",
     "output_type": "stream",
     "text": [
      "Vitesse vectorielle de la particule à chaque collision : []\n",
      "Vitesse vectorielle moyenne de la particule : nan\n"
     ]
    },
    {
     "name": "stderr",
     "output_type": "stream",
     "text": [
      "C:\\Users\\btrud\\anaconda3\\Lib\\site-packages\\numpy\\core\\fromnumeric.py:3464: RuntimeWarning: Mean of empty slice.\n",
      "  return _methods._mean(a, axis=axis, dtype=dtype,\n",
      "C:\\Users\\btrud\\anaconda3\\Lib\\site-packages\\numpy\\core\\_methods.py:192: RuntimeWarning: invalid value encountered in scalar divide\n",
      "  ret = ret.dtype.type(ret / rcount)\n"
     ]
    }
   ],
   "source": [
    "vParticule_avg = np.mean(vParticule)\n",
    "\n",
    "print(\"Vitesse vectorielle de la particule à chaque collision :\", vParticule)\n",
    "print(\"Vitesse vectorielle moyenne de la particule :\", vParticule_avg)\n",
    "\n",
    "# Exemple de réponse possible :\n",
    "# Vitesse vectorielle de la particule à chaque collision : [<-68.0768, 1373.09, 0>, <-41.2128, 1374.68, 0>, <-729.831, 608.077, 0>, <-1238.9, 648.749, 0>, <-771.991, -246.69, 0>, <-671.848, 1673.78, 0>, <-13.7237, -1928.09, 0>, <-743.508, -530.526, 0>, <383.408, -812.754, 0>, <38.5652, -385.396, 0>, <798.086, 395.989, 0>, <1338.49, 120.937, 0>, <1380.69, -60.7974, 0>, <1283.11, -63.8014, 0>, <-387.564, 824.142, 0>, <263.402, 898.882, 0>, <342.458, -857.288, 0>, <-1765.59, -772.498, 0>, <-1821.96, -733.369, 0>, <-2187.32, -638.582, 0>, <1814.28, -691.653, 0>, <1730.69, -444.713, 0>, <-1054.26, -2537.61, 0>, <-1651.6, -2110.25, 0>, <123.529, -1985.32, 0>, <793.946, -676.917, 0>, <256.519, -1128.95, 0>, <336.123, 1193.2, 0>, <406.477, 1161.49, 0>, <464.606, 728.696, 0>, <194.561, 868.31, 0>, <-435.498, 403.249, 0>, <-1635.31, 2575, 0>, <-776.927, 2491.42, 0>, <-515.113, -2638.81, 0>, <2083.01, -553.409, 0>, <806.762, -349.116, 0>, <178.344, -1044.25, 0>, <1242.33, -322.488, 0>, <1205.27, -384.144, 0>, <1117.51, -1829.95, 0>, <1693.72, -348.506, 0>, <988.028, -1049.18, 0>, <1186.91, -934.315, 0>, <-1265.17, 172.905, 0>, <1601.34, -1106.88, 0>, <350.616, -1969.23, 0>, <-289.002, -255.98, 0>, <107.108, -690.245, 0>]\n",
    "# Vitesse vectorielle moyenne de la particule : <131.54, -256.512, 0>"
   ]
  },
  {
   "cell_type": "markdown",
   "metadata": {
    "nteract": {
     "transient": {
      "deleting": false
     }
    }
   },
   "source": [
    "**VI.** _(5 points)_ &mdash; Pour cette même liste de vitesses, comparez les distributions de la norme $||\\vec{v}||$, du carré $v^2$ et d’une de ses composantes $v_x^2$ en étalonnant l’abscisse pour contraster les histogrammes avec une échelle appropriée. Indiquez sur ce graphique la moyenne, le mode, la médiane et la moyenne quadratique des distributions."
   ]
  },
  {
   "cell_type": "code",
   "execution_count": 7,
   "metadata": {
    "nteract": {
     "transient": {
      "deleting": false
     }
    }
   },
   "outputs": [
    {
     "ename": "ValueError",
     "evalue": "max() arg is an empty sequence",
     "output_type": "error",
     "traceback": [
      "\u001b[1;31m---------------------------------------------------------------------------\u001b[0m",
      "\u001b[1;31mValueError\u001b[0m                                Traceback (most recent call last)",
      "Cell \u001b[1;32mIn[7], line 12\u001b[0m\n\u001b[0;32m      9\u001b[0m v_x \u001b[38;5;241m=\u001b[39m np\u001b[38;5;241m.\u001b[39marray(v_x)\n\u001b[0;32m     10\u001b[0m v_x_2 \u001b[38;5;241m=\u001b[39m v_x\u001b[38;5;241m*\u001b[39m\u001b[38;5;241m*\u001b[39m\u001b[38;5;241m2\u001b[39m\n\u001b[1;32m---> 12\u001b[0m v_norm_normalized \u001b[38;5;241m=\u001b[39m np\u001b[38;5;241m.\u001b[39marray(v_norm)\u001b[38;5;241m/\u001b[39m\u001b[38;5;28mmax\u001b[39m(v_norm)\n\u001b[0;32m     13\u001b[0m v_2_normalized \u001b[38;5;241m=\u001b[39m np\u001b[38;5;241m.\u001b[39marray(v_2)\u001b[38;5;241m/\u001b[39m\u001b[38;5;28mmax\u001b[39m(v_2)\n\u001b[0;32m     14\u001b[0m v_x_2_normalized \u001b[38;5;241m=\u001b[39m v_x_2\u001b[38;5;241m/\u001b[39m\u001b[38;5;28mmax\u001b[39m(v_x_2)\n",
      "\u001b[1;31mValueError\u001b[0m: max() arg is an empty sequence"
     ]
    }
   ],
   "source": [
    "v_norm = []\n",
    "v_2 = []\n",
    "v_x = []\n",
    "for elem in vParticule:\n",
    "    v_norm.append(mag(elem))\n",
    "    v_2.append(mag2(elem))\n",
    "    v_x.append(elem.x)\n",
    "\n",
    "v_x = np.array(v_x)\n",
    "v_x_2 = v_x**2\n",
    "\n",
    "v_norm_normalized = np.array(v_norm)/max(v_norm)\n",
    "v_2_normalized = np.array(v_2)/max(v_2)\n",
    "v_x_2_normalized = v_x_2/max(v_x_2)\n",
    "\n",
    "bin_nb = 24\n",
    "bin_range = (0, 1)\n",
    "\n",
    "param_list = []\n",
    "for arr in [v_norm_normalized, v_2_normalized, v_x_2_normalized]:\n",
    "    rms = np.sqrt(np.mean(arr**2))\n",
    "    var_list = [np.mean(arr), mode(arr, axis=None, keepdims=False)[0], np.median(arr), rms]\n",
    "    param_list.append(var_list)\n",
    "\n",
    "i=0\n",
    "for var in param_list:\n",
    "\n",
    "    rounding_list = []\n",
    "    for elem in var:\n",
    "\n",
    "        rounding_list.append(round(elem, 3))\n",
    "    param_list[i] = rounding_list\n",
    "    i += 1\n",
    "\n",
    "fig, ax = plt.subplots(nrows=1, ncols=3, sharex=True, sharey=True)\n",
    "ax[0].hist(v_norm_normalized, bins=bin_nb, alpha=0.5, label=f\" Moyenne = {param_list[0][0]}\\n\"\n",
    "                                               f\" Mode = {param_list[0][1]}\\n Médiane = {param_list[0][2]}\"\n",
    "            f\"\\n RMS = {param_list[0][3]}\", color=\"b\")\n",
    "ax[0].legend(loc=\"upper right\", fontsize=\"11\")\n",
    "ax[0].set_title(r\"Distribution de $||\\vec{v}||$\", fontsize=\"14\")\n",
    "ax[1].hist(v_2_normalized, bins=bin_nb, alpha=0.5, label=f\" Moyenne = {param_list[1][0]}\\n\"\n",
    "                                               f\" Mode = {param_list[1][1]}\\n Médiane = {param_list[1][2]}\"\n",
    "            f\"\\n RMS = {param_list[1][3]}\", color=\"orange\")\n",
    "ax[1].legend(loc=\"upper right\", fontsize=\"11\")\n",
    "ax[1].set_title(r\"Distribution de $v^2$\", fontsize=\"14\")\n",
    "ax[2].hist(v_x_2_normalized, bins=bin_nb, alpha=0.5, label=f\" Moyenne = {param_list[2][0]}\\n\"\n",
    "                                               f\" Mode = {param_list[2][1]}\\n Médiane = {param_list[2][2]}\"\n",
    "            f\"\\n RMS = {param_list[2][3]}\", color=\"g\")\n",
    "ax[2].legend(loc=\"upper right\", fontsize=\"11\")\n",
    "ax[2].set_title(r\"Distribution de $v_x^2$\", fontsize=\"14\")\n",
    "fig.text(0.5, 0.04, 'Amplitude normalisée [-]', ha='center', fontsize=\"16\")\n",
    "fig.text(0.04, 0.5, 'Fréquence [-]', va='center', rotation='vertical', fontsize=\"16\")\n",
    "figManager = plt.get_current_fig_manager()\n",
    "figManager.window.showMaximized()\n",
    "plt.show()\n",
    "#"
   ]
  },
  {
   "cell_type": "markdown",
   "metadata": {},
   "source": [
    "**Bonus.** _(4 points)_ &mdash; Montrez que \n",
    "- (a) le théorème central limite est satisfait par une des distributions de vitesse du numéro précédent,\n",
    "- (b) le système simulé est ergodique."
   ]
  },
  {
   "cell_type": "code",
   "execution_count": null,
   "metadata": {
    "nteract": {
     "transient": {
      "deleting": false
     }
    }
   },
   "outputs": [],
   "source": [
    "#Le théorème central limite dit qu'un ensemble de variables aléatoires indépendantes et identiquement distribuées tend vers\n",
    "#une distribution normale (gaussienne). Parmi les distributions de vitesses du numéro précédent, on remarque que la distribution\n",
    "#de la norme de v ressemble à une distribution de Maxwell-Boltzmann tel qu'attendu. Par contre, la distribution de v_x^2 fait \n",
    "#penser à la moitié d'une distribution gaussienne. Ainsi, on choisit de comparer la distribution de la composante v_x à travers\n",
    "#le temps pour une seule particule à une distribution normale.\n",
    "\n",
    "\n",
    "v_x_normalized = v_x/max(v_x)\n",
    "\n",
    "avg = np.mean(v_x_normalized)\n",
    "var = np.var(v_x_normalized)\n",
    "pdf_x = np.linspace(-1, 1)\n",
    "pdf_y = 1.0 / np.sqrt(2 * np.pi * var) * np.exp(-0.5 * (pdf_x - avg) ** 2 / var)\n",
    "\n",
    "mu, std = norm.fit(v_x_normalized)\n",
    "xmin, xmax = -1, 1\n",
    "x_fitted = np.linspace(xmin, xmax, 100)\n",
    "y_fitted = norm.pdf(x_fitted, mu, std)\n",
    "\n",
    "plt.figure()\n",
    "plt.hist(v_x_normalized, alpha=0.5, bins=bin_nb, range=(-1, 1), density=True, label=\"Données simulées\")\n",
    "plt.plot(pdf_x, pdf_y, '--', color=\"k\", label=\"Ajustement de courbe gaussien\")\n",
    "plt.title(r\"Distribution de $v_x$ pour une particule\", fontsize=\"14\")\n",
    "plt.xlabel('Amplitude normalisée [-]', fontsize=\"16\")\n",
    "plt.ylabel('Fréquence normalisée[-]', fontsize=\"16\")\n",
    "plt.legend(fontsize=\"12\")\n",
    "plt.xticks(fontsize=\"12\")\n",
    "figManager = plt.get_current_fig_manager()\n",
    "figManager.window.showMaximized()\n",
    "plt.show()\n",
    "\n",
    "rms = np.sqrt(np.mean(v_x_normalized**2))\n",
    "var_list = [np.mean(arr), mode(arr, axis=None, keepdims=False)[0], np.median(arr), rms]\n",
    "\n",
    "\n",
    "print(f\"Moyenne = {avg}, Mode = {mode(v_x_normalized, axis=None, keepdims=False)[0]},\"\n",
    "      f\" Médiane = {np.median(v_x_normalized)}, RMS = {rms}, STD = {sqrt(var)}\")\n",
    "\n",
    "#La distribution de v_x tend effectivement vers une distribution gaussienne. Ensuite, on veut montrer que le système est ergodique.\n",
    "#Cela implique que la moyenne d'une distribution d'une variable évoluant dans le temps est égale à la valeur moyenne\n",
    "# d'une distribution d'un grand nombre de variables identiques. On regarde alors si la distribution de v_x de toutes les\n",
    "#particules à un instant donné est identique et retourne la même moyenne.\n",
    "\n",
    "v_x_all = []\n",
    "\n",
    "for elem in vitesse:\n",
    "    v_x_all.append(elem.x)\n",
    "\n",
    "v_x_all_normalized = np.array(v_x_all)/max(v_x_all)\n",
    "\n",
    "avg = np.mean(v_x_all_normalized)\n",
    "var = np.var(v_x_all_normalized)\n",
    "pdf_x = np.linspace(-1, 1)\n",
    "pdf_y = 1.0 / np.sqrt(2 * np.pi * var) * np.exp(-0.5 * (pdf_x - avg) ** 2 / var)\n",
    "\n",
    "mu, std = norm.fit(v_x_all_normalized)\n",
    "xmin, xmax = -1, 1\n",
    "x_fitted = np.linspace(xmin, xmax, 100)\n",
    "y_fitted = norm.pdf(x_fitted, mu, std)\n",
    "\n",
    "plt.figure()\n",
    "plt.hist(v_x_all_normalized, alpha=0.5, bins=bin_nb, range=(-1, 1), density=True, label=\"Données simulées\")\n",
    "plt.plot(pdf_x, pdf_y, '--', color=\"k\", label=\"Ajustement de courbe gaussien\")\n",
    "plt.title(r\"Distribution de $v_x$ à un instant pour toutes les particules\", fontsize=\"14\")\n",
    "plt.xlabel('Amplitude normalisée [-]', fontsize=\"16\")\n",
    "plt.ylabel('Fréquence normalisée[-]', fontsize=\"16\")\n",
    "plt.legend(fontsize=\"12\")\n",
    "plt.xticks(fontsize=\"12\")\n",
    "figManager = plt.get_current_fig_manager()\n",
    "figManager.window.showMaximized()\n",
    "plt.show()\n",
    "\n",
    "rms = np.sqrt(np.mean(v_x_all_normalized**2))\n",
    "var_list = [np.mean(arr), mode(arr, axis=None, keepdims=False)[0], np.median(arr), rms]\n",
    "\n",
    "\n",
    "print(f\"Moyenne = {avg}, Mode = {mode(v_x_all_normalized, axis=None, keepdims=False)[0]},\"\n",
    "      f\" Médiane = {np.median(v_x_all_normalized)}, RMS = {rms}, STD = {sqrt(var)}\")\n",
    "\n",
    "#Dans les deux cas, on obtient des distributions normales possédant à peu près la même moyenne. Le système est ergodique."
   ]
  },
  {
   "cell_type": "markdown",
   "metadata": {
    "nteract": {
     "transient": {
      "deleting": false
     }
    }
   },
   "source": [
    "# Médiagraphie #\n",
    " - La simulation utilise la librairie <a href=\"https://vpython.org\">VPython</a> conçue pour faciliter la visualisation de physique en 3D, avec les instructions d’installation <a href=\"https://vpython.org/presentation2018/install.html\">ici</a> et la documentation <a href=\"https://www.glowscript.org/docs/VPythonDocs/index.html\">ici</a>. Le code adapte en 2D et commente en détail l’exemple <a href=\"https://www.glowscript.org/#/user/GlowScriptDemos/folder/Examples/program/HardSphereGas-VPython\">HardSphereGas-VPython</a> du site interactif <a href=\"https://www.glowscript.org\">GlowScript</a> pour programmer des animations avec VPython directement en ligne."
   ]
  }
 ],
 "metadata": {
  "kernelspec": {
   "display_name": "Python 3 (ipykernel)",
   "language": "python",
   "name": "python3"
  },
  "language_info": {
   "codemirror_mode": {
    "name": "ipython",
    "version": 3
   },
   "file_extension": ".py",
   "mimetype": "text/x-python",
   "name": "python",
   "nbconvert_exporter": "python",
   "pygments_lexer": "ipython3",
   "version": "3.11.5"
  }
 },
 "nbformat": 4,
 "nbformat_minor": 4
}
