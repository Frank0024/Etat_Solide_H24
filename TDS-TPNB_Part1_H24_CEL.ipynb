{
 "cells": [
  {
   "cell_type": "markdown",
   "metadata": {},
   "source": [
    "<h1 style=\"text-align:center\">Travail pratique numérique en thermodynamique statistique</h1>\n",
    "<h2 style=\"text-align:center\">PARTIE 1 : Cinétique des gaz parfaits</h2>\n",
    "\n",
    "Veuillez indiquer le nom des membres de votre équipe dans la cellule suivante."
   ]
  },
  {
   "cell_type": "markdown",
   "metadata": {},
   "source": []
  },
  {
   "cell_type": "markdown",
   "metadata": {},
   "source": [
    "# Atelier en classe : 31 janvier 2024 #\n",
    "### Discussion interdisciplinaire de sujets en probablilité & statistiques ###\n",
    "\n",
    "**Quelques fondements de mathématiques statistiques:** par exemple bien définir variables aléatoires, échantillon et population totale, estimateurs, fonction de distribution cumulative (répartition), densité de probabilité, moments, etc. - **Programme GPH**\n",
    "\n",
    "**Les distributions statistiques de particules indiscernables:** en particulier celle de Fermi-Dirac avec les notions de potentiel chimique et d’occupation des états en fonction de la température, en analogie avec le remplissage selon le principe principe d’Aufbau introduit en classe pour les atomes à température nulle. - **Programme PHY**\n",
    "\n",
    "**_Un point de bonus sera accordé à tous les étudiantes et étudiants qui participeront à l'atelier pour discuter des sujets ci-dessus et débuter le travail de la première partie ci-dessous._**"
   ]
  },
  {
   "cell_type": "markdown",
   "metadata": {
    "nteract": {
     "transient": {
      "deleting": false
     }
    }
   },
   "source": [
    "# Introduction #\n",
    "Ce travail révise d'abord quelques bases générales de mécanique statistique classique avec le script `TDSrevision-2Dsimulation.py` qui simule la théorie cinétique des gaz parfaits en 2D. Cette simulation utilise le concept de sphères dures, mais ici pour le cas des particules d'un gaz afin d'introduire des collisions élastiques entre elles sur leurs trajectoires ballistiques. Notez qu'une sphère est colorée et grossie seulement pour l’effet visuel dans l'animation, la physique de l’algorithme codé considère bien des particules totalement identiques. Les questions sur cette simulation, à répondre directement dans les cellules du carnet _(Notebook)_ ici-même, explorent quelques paramètres de la thermodynamique statistique et introduisent de nouveaux termes utiles à l'étude de la dynamique des électrons dans la matière.\n",
    "\n",
    "_N.B._ \n",
    "- _Pour montrer les animations à l'écran, le script `TDSrevision-2Dsimulation.py` importe la librairie `VPython` qu'il faut donc installer. Des liens vers sa documentation et de l'information complémentaire sont donnés dans la médiagraphie à la fin._\n",
    "- _Le code dans ce script est abusivement commenté dans notre contexte pédagogique, mais il serait bien sûr préférable de s’en tenir aux recommandations du <a href=\"https://www.python.org/dev/peps/pep-0008\"> PEP 8 — Style Guide for Python Code</a>._\n",
    "- _Notez finalement que la boucle principale à la fin du script laisse l'utilisateur voir l'animation aussi longtemps que souhaité, assurez-vous donc de savoir comment l'interrompre correctement avant de lancer la simulation ou de la remplacer par une boucle `for`._"
   ]
  },
  {
   "cell_type": "markdown",
   "metadata": {
    "nteract": {
     "transient": {
      "deleting": false
     }
    }
   },
   "source": [
    "# Cinétique CLASSIQUE des gaz parfaits #"
   ]
  },
  {
   "cell_type": "markdown",
   "metadata": {
    "nteract": {
     "transient": {
      "deleting": false
     }
    }
   },
   "source": [
    "### Simulation 2D ###"
   ]
  },
  {
   "cell_type": "code",
   "execution_count": 1,
   "metadata": {
    "scrolled": true
   },
   "outputs": [
    {
     "ename": "Exception",
     "evalue": "File `'TDSrevision-2Dsimulation.py'` not found.",
     "output_type": "error",
     "traceback": [
      "\u001b[1;31m---------------------------------------------------------------------------\u001b[0m",
      "\u001b[1;31mOSError\u001b[0m                                   Traceback (most recent call last)",
      "File \u001b[1;32m~\\anaconda3\\lib\\site-packages\\IPython\\core\\magics\\execution.py:697\u001b[0m, in \u001b[0;36mExecutionMagics.run\u001b[1;34m(self, parameter_s, runner, file_finder)\u001b[0m\n\u001b[0;32m    696\u001b[0m     fpath \u001b[38;5;241m=\u001b[39m arg_lst[\u001b[38;5;241m0\u001b[39m]\n\u001b[1;32m--> 697\u001b[0m     filename \u001b[38;5;241m=\u001b[39m \u001b[43mfile_finder\u001b[49m\u001b[43m(\u001b[49m\u001b[43mfpath\u001b[49m\u001b[43m)\u001b[49m\n\u001b[0;32m    698\u001b[0m \u001b[38;5;28;01mexcept\u001b[39;00m \u001b[38;5;167;01mIndexError\u001b[39;00m \u001b[38;5;28;01mas\u001b[39;00m e:\n",
      "File \u001b[1;32m~\\anaconda3\\lib\\site-packages\\IPython\\utils\\path.py:90\u001b[0m, in \u001b[0;36mget_py_filename\u001b[1;34m(name)\u001b[0m\n\u001b[0;32m     89\u001b[0m         \u001b[38;5;28;01mreturn\u001b[39;00m py_name\n\u001b[1;32m---> 90\u001b[0m \u001b[38;5;28;01mraise\u001b[39;00m \u001b[38;5;167;01mIOError\u001b[39;00m(\u001b[38;5;124m\"\u001b[39m\u001b[38;5;124mFile `\u001b[39m\u001b[38;5;132;01m%r\u001b[39;00m\u001b[38;5;124m` not found.\u001b[39m\u001b[38;5;124m\"\u001b[39m \u001b[38;5;241m%\u001b[39m name)\n",
      "\u001b[1;31mOSError\u001b[0m: File `'TDSrevision-2Dsimulation.py'` not found.",
      "\nThe above exception was the direct cause of the following exception:\n",
      "\u001b[1;31mException\u001b[0m                                 Traceback (most recent call last)",
      "Cell \u001b[1;32mIn[1], line 1\u001b[0m\n\u001b[1;32m----> 1\u001b[0m \u001b[43mget_ipython\u001b[49m\u001b[43m(\u001b[49m\u001b[43m)\u001b[49m\u001b[38;5;241;43m.\u001b[39;49m\u001b[43mrun_line_magic\u001b[49m\u001b[43m(\u001b[49m\u001b[38;5;124;43m'\u001b[39;49m\u001b[38;5;124;43mrun\u001b[39;49m\u001b[38;5;124;43m'\u001b[39;49m\u001b[43m,\u001b[49m\u001b[43m \u001b[49m\u001b[38;5;124;43m'\u001b[39;49m\u001b[38;5;124;43mTDSrevision-2Dsimulation.py\u001b[39;49m\u001b[38;5;124;43m'\u001b[39;49m\u001b[43m)\u001b[49m\n",
      "File \u001b[1;32m~\\anaconda3\\lib\\site-packages\\IPython\\core\\interactiveshell.py:2369\u001b[0m, in \u001b[0;36mInteractiveShell.run_line_magic\u001b[1;34m(self, magic_name, line, _stack_depth)\u001b[0m\n\u001b[0;32m   2367\u001b[0m     kwargs[\u001b[38;5;124m'\u001b[39m\u001b[38;5;124mlocal_ns\u001b[39m\u001b[38;5;124m'\u001b[39m] \u001b[38;5;241m=\u001b[39m \u001b[38;5;28mself\u001b[39m\u001b[38;5;241m.\u001b[39mget_local_scope(stack_depth)\n\u001b[0;32m   2368\u001b[0m \u001b[38;5;28;01mwith\u001b[39;00m \u001b[38;5;28mself\u001b[39m\u001b[38;5;241m.\u001b[39mbuiltin_trap:\n\u001b[1;32m-> 2369\u001b[0m     result \u001b[38;5;241m=\u001b[39m fn(\u001b[38;5;241m*\u001b[39margs, \u001b[38;5;241m*\u001b[39m\u001b[38;5;241m*\u001b[39mkwargs)\n\u001b[0;32m   2371\u001b[0m \u001b[38;5;66;03m# The code below prevents the output from being displayed\u001b[39;00m\n\u001b[0;32m   2372\u001b[0m \u001b[38;5;66;03m# when using magics with decodator @output_can_be_silenced\u001b[39;00m\n\u001b[0;32m   2373\u001b[0m \u001b[38;5;66;03m# when the last Python token in the expression is a ';'.\u001b[39;00m\n\u001b[0;32m   2374\u001b[0m \u001b[38;5;28;01mif\u001b[39;00m \u001b[38;5;28mgetattr\u001b[39m(fn, magic\u001b[38;5;241m.\u001b[39mMAGIC_OUTPUT_CAN_BE_SILENCED, \u001b[38;5;28;01mFalse\u001b[39;00m):\n",
      "File \u001b[1;32m~\\anaconda3\\lib\\site-packages\\IPython\\core\\magics\\execution.py:708\u001b[0m, in \u001b[0;36mExecutionMagics.run\u001b[1;34m(self, parameter_s, runner, file_finder)\u001b[0m\n\u001b[0;32m    706\u001b[0m     \u001b[38;5;28;01mif\u001b[39;00m os\u001b[38;5;241m.\u001b[39mname \u001b[38;5;241m==\u001b[39m \u001b[38;5;124m'\u001b[39m\u001b[38;5;124mnt\u001b[39m\u001b[38;5;124m'\u001b[39m \u001b[38;5;129;01mand\u001b[39;00m re\u001b[38;5;241m.\u001b[39mmatch(\u001b[38;5;124mr\u001b[39m\u001b[38;5;124m\"\u001b[39m\u001b[38;5;124m^\u001b[39m\u001b[38;5;124m'\u001b[39m\u001b[38;5;124m.*\u001b[39m\u001b[38;5;124m'\u001b[39m\u001b[38;5;124m$\u001b[39m\u001b[38;5;124m\"\u001b[39m,fpath):\n\u001b[0;32m    707\u001b[0m         warn(\u001b[38;5;124m'\u001b[39m\u001b[38;5;124mFor Windows, use double quotes to wrap a filename: \u001b[39m\u001b[38;5;132;01m%r\u001b[39;00m\u001b[38;5;124mun \u001b[39m\u001b[38;5;124m\"\u001b[39m\u001b[38;5;124mmypath\u001b[39m\u001b[38;5;130;01m\\\\\u001b[39;00m\u001b[38;5;124mmyfile.py\u001b[39m\u001b[38;5;124m\"\u001b[39m\u001b[38;5;124m'\u001b[39m)\n\u001b[1;32m--> 708\u001b[0m     \u001b[38;5;28;01mraise\u001b[39;00m \u001b[38;5;167;01mException\u001b[39;00m(msg) \u001b[38;5;28;01mfrom\u001b[39;00m \u001b[38;5;21;01me\u001b[39;00m\n\u001b[0;32m    709\u001b[0m \u001b[38;5;28;01mexcept\u001b[39;00m \u001b[38;5;167;01mTypeError\u001b[39;00m:\n\u001b[0;32m    710\u001b[0m     \u001b[38;5;28;01mif\u001b[39;00m fpath \u001b[38;5;129;01min\u001b[39;00m sys\u001b[38;5;241m.\u001b[39mmeta_path:\n",
      "\u001b[1;31mException\u001b[0m: File `'TDSrevision-2Dsimulation.py'` not found."
     ]
    }
   ],
   "source": [
    "%run TDSrevision-2Dsimulation.py\n",
    "# La simulation peut être exécutée à l'extérieur du _Notebook_ bien sûr, cette cellule ne vise qu'à relier le travail qui suit au programme."
   ]
  },
  {
   "cell_type": "markdown",
   "metadata": {},
   "source": [
    "### Questions statistiques ###"
   ]
  },
  {
   "cell_type": "markdown",
   "metadata": {},
   "source": [
    "**I.** _(3 points)_  &mdash; Utilisez la liste finale des vecteurs de quantité de mouvement $\\vec{p}$ de toutes les sphères pour trouver la moyenne de son carré $\\langle p^2\\rangle=\\langle\\vec{p}\\cdot\\vec{p}\\rangle$ et l'imprimer avec la fonction `print()` dans la cellule qui suit. "
   ]
  },
  {
   "cell_type": "code",
   "execution_count": null,
   "metadata": {},
   "outputs": [],
   "source": [
    "p_2 = []\n",
    "for vec in p:\n",
    "    p_2.append(mag2(vec))\n",
    "\n",
    "avg_p_2 = np.mean(p_2)\n",
    "print(avg_p_2)\n",
    "# 8.4e-47"
   ]
  },
  {
   "cell_type": "markdown",
   "metadata": {},
   "source": [
    "\n",
    "**II.** _(2 points)_  &mdash; La température $T$ (macroscopique) est proportionnelle à l'énergie cinétique moyenne $E_{cin}$ de l'ensemble des particules lorsque ce système est rendu à l'équilibre. Celle-ci peut se calculer classiquement selon son <a href=\"https://fr.wikipedia.org/wiki/%C3%89quipartition_de_l%27%C3%A9nergie\">principe d'équipartition</a>, _i.e._ répartissant l'énergie également sur chaque degré de liberté ici en translation seulement, d'où au total pour $i=1,2\\text{ ou } 3$ dimensions d'espace réel\n",
    "\\begin{equation}\n",
    "E_{cin}=\\frac{\\langle p^2 \\rangle}{2m}=i\\times\\frac{1}{2}k_BT\n",
    "\\end{equation}\n",
    "avec $k_B$, la constante de Boltzmann et $m$, la masse de chaque particule. Quelle est la température du gaz de sphères dures à la fin de la simulation? Est-ce qu'elle a changé significativement par rapport à sa valeur initiale?"
   ]
  },
  {
   "cell_type": "code",
   "execution_count": 1,
   "metadata": {},
   "outputs": [],
   "source": [
    "Einit = (3/2)*k*T\n",
    "Efinal = avg_p_2/(2*mass)\n",
    "print(\"Einit =\", Einit)\n",
    "print(\"Efinal =\", Efinal)\n",
    "print(\"Einit/Efinal =\", Einit/Efinal)\n",
    "\n",
    "#Einit = 6.299999999999999e-21\n",
    "#Efinal = 6.300000000000001e-21\n",
    "#Einit/Efinal = 0.9999999999999998\n",
    "\n",
    "T = 300 # around room temperature\n",
    "T_final = (2/3)*avg_p_2/(2*mass*k)\n",
    "print(\"Température initiale =\", T)\n",
    "print(\"Température finale =\", T_final)\n",
    "print(\"Rapport T/T_final =\", T/T_final)\n",
    "\n",
    "#Température initiale = 300\n",
    "#Température finale = 299.9999999999999\n",
    "#Rapport T/T_final = 1.0000000000000004\n",
    "\n",
    "#La température n'a pas changé de manière significative tel qu'attendu pour ce modèle."
   ]
  },
  {
   "cell_type": "markdown",
   "metadata": {
    "nteract": {
     "transient": {
      "deleting": false
     }
    }
   },
   "source": [
    "**III.** _(10 points)_ &mdash; Modifiez le code de la simulation pour ajouter une fonction qui suit la trajectoire d'UNE SEULE particule, c'est-à-dire qu'elle doit enregistrer, dans une liste, des valeurs de variables pour cette particule et ce, à chacune de ses collisions avec une autre particule (_i.e._ excluez les collisions avec les parois de la boîte). Les deux variables scalaires à lister sont:\n",
    "- la distance que la particule a parcouru entre chaque collision,\n",
    "- le temps écoulé entre ces collisions.\n",
    "\n",
    "Copiez le code de votre fonction dans la cellule qui suit en y commentant clairement les variables pour ces listes qui devront persister après avoir interrompu l'exécution de la simulation. N'oubliez pas d'inclure votre fichier Python (`.py`) modifié avec la simulation complète lors de la remise."
   ]
  },
  {
   "cell_type": "code",
   "execution_count": null,
   "metadata": {
    "nteract": {
     "transient": {
      "deleting": false
     }
    }
   },
   "outputs": [],
   "source": [
    "distParcouru = [] # actualisée à chaque colision\n",
    "dtCollision = [] # actualisée à chaque colision\n",
    "posParticule = [] # reset à chaque collision et incrémentée à chaque tick\n",
    "tickParticule = 0 # reset à chaque collision et incrémentée à chaque tick\n",
    "vParticule = [] # Vecteur contenant la vitesse de la particule suivie à chaque collision\n",
    "atom_id = 197\n",
    "\n",
    "def followParticule(posParticule):\n",
    "    dTot = 0\n",
    "    for i, vector in enumerate(posParticule):\n",
    "        if i+1 != len(posParticule):\n",
    "            dX = np.abs(vector.x - posParticule[i+1].x)\n",
    "            dY = np.abs(vector.y - posParticule[i+1].y)\n",
    "            dTot += np.sqrt(dX**2+dY**2)\n",
    "    return dTot\n",
    "\n",
    "# distance parcourue entre chaque collision : [0, 0.018366915990352665, 0.0759099010884474, 0.0929966926777815, 0.03359328169654027, 0.08997469025699102, 0.13043395250775527, 0.061948629884101596, 1.3673668280711884, 0.06669884021890397, 1.180707360614538, 0.6701508162985433, 0.3145510860457814, 1.24509782108234, 0.6134087641995144, 0.020879271289770004, 0.06981373380493557, 0.3832304770138317, 0.07291756397734815, 0.04371605943893324, 0.0336378860881871, 0.10776095936083216, 0.36599777026438274, 0, 0.1690784562556821, 0.038094575834455933, 0.11525895184068494, 0.07618156432766761, 0.7339514987700417, 0.08903714445042522, 0.19842025572888955, 0.019290782645854473, 0.32210139537527654, 0.32507555871939836, 0.05935447207952358, 0.17148053661970955, 0.3469622213678006, 0.05143261068295239, 0.06930514205675957, 0, 0.008447691350516932, 0.003655555870801868, 0, 0.03380643045015491, 0.11295918791154834, 0.7361448934586753]\n",
    "# nombre de tick entre chaque collision : [1, 2, 5, 9, 6, 11, 109, 7, 133, 7, 43, 27, 13, 61, 71, 3, 7, 34, 7, 5, 4, 5, 18, 1, 10, 10, 14, 9, 58, 6, 23, 2, 77, 50, 14, 11, 24, 4, 5, 1, 5, 10, 1, 11, 15, 48]  \n",
    "# Résultat après 1000 ticks"
   ]
  },
  {
   "cell_type": "markdown",
   "metadata": {
    "nteract": {
     "transient": {
      "deleting": false
     }
    }
   },
   "source": [
    "**IV.** _(2 points)_ &mdash; Calculez le **libre parcours moyen** $l_{moy}$ et le **temps de collision** $\\tau$ qui sont les valeurs moyennes des deux listes compilées au numéro précédent.\n",
    "\n",
    "_(Pour votre information, le libre parcours moyen est de l’ordre de 100 nm dans l'air à température et pression ambiantes, mais_ $l_{moy}$ _peut dépasser 100 000 km dans une enceinte sous vide avec les technologies de pompes modernes!)_\n",
    "\n"
   ]
  },
  {
   "cell_type": "code",
   "execution_count": null,
   "metadata": {
    "nteract": {
     "transient": {
      "deleting": false
     }
    }
   },
   "outputs": [],
   "source": [
    "print(\"I_moy = \", np.mean(distParcouru), \"unités\")\n",
    "print(\"τ =\", np.mean(dtCollision), \"ticks\")\n",
    "# I_moy =  0.15072183732377864 unités\n",
    "# τ = 19.612244897959183 ticks"
   ]
  },
  {
   "cell_type": "markdown",
   "metadata": {
    "nteract": {
     "transient": {
      "deleting": false
     }
    }
   },
   "source": [
    "**V.** _(2 points)_ Calculez la vitesse $\\vec{v}$ de la particule entre chaque paire de collisions. Quelle est la vitesse moyenne $\\langle\\vec{v}\\rangle$ de la particule?"
   ]
  },
  {
   "cell_type": "code",
   "execution_count": null,
   "metadata": {
    "nteract": {
     "transient": {
      "deleting": false
     }
    }
   },
   "outputs": [],
   "source": [
    "vParticule_avg = np.mean(vParticule)\n",
    "\n",
    "print(\"Vitesse vectorielle de la particule à chaque collision :\", vParticule)\n",
    "print(\"Vitesse vectorielle moyenne de la particule :\", vParticule_avg)\n",
    "\n",
    "# Exemple de réponse possible :\n",
    "# Vitesse vectorielle de la particule à chaque collision : [<-68.0768, 1373.09, 0>, <-41.2128, 1374.68, 0>, <-729.831, 608.077, 0>, <-1238.9, 648.749, 0>, <-771.991, -246.69, 0>, <-671.848, 1673.78, 0>, <-13.7237, -1928.09, 0>, <-743.508, -530.526, 0>, <383.408, -812.754, 0>, <38.5652, -385.396, 0>, <798.086, 395.989, 0>, <1338.49, 120.937, 0>, <1380.69, -60.7974, 0>, <1283.11, -63.8014, 0>, <-387.564, 824.142, 0>, <263.402, 898.882, 0>, <342.458, -857.288, 0>, <-1765.59, -772.498, 0>, <-1821.96, -733.369, 0>, <-2187.32, -638.582, 0>, <1814.28, -691.653, 0>, <1730.69, -444.713, 0>, <-1054.26, -2537.61, 0>, <-1651.6, -2110.25, 0>, <123.529, -1985.32, 0>, <793.946, -676.917, 0>, <256.519, -1128.95, 0>, <336.123, 1193.2, 0>, <406.477, 1161.49, 0>, <464.606, 728.696, 0>, <194.561, 868.31, 0>, <-435.498, 403.249, 0>, <-1635.31, 2575, 0>, <-776.927, 2491.42, 0>, <-515.113, -2638.81, 0>, <2083.01, -553.409, 0>, <806.762, -349.116, 0>, <178.344, -1044.25, 0>, <1242.33, -322.488, 0>, <1205.27, -384.144, 0>, <1117.51, -1829.95, 0>, <1693.72, -348.506, 0>, <988.028, -1049.18, 0>, <1186.91, -934.315, 0>, <-1265.17, 172.905, 0>, <1601.34, -1106.88, 0>, <350.616, -1969.23, 0>, <-289.002, -255.98, 0>, <107.108, -690.245, 0>]\n",
    "# Vitesse vectorielle moyenne de la particule : <131.54, -256.512, 0>"
   ]
  },
  {
   "cell_type": "markdown",
   "metadata": {
    "nteract": {
     "transient": {
      "deleting": false
     }
    }
   },
   "source": [
    "**VI.** _(5 points)_ &mdash; Pour cette même liste de vitesses, comparez les distributions de la norme $||\\vec{v}||$, du carré $v^2$ et d’une de ses composantes $v_x^2$ en étalonnant l’abscisse pour contraster les histogrammes avec une échelle appropriée. Indiquez sur ce graphique la moyenne, le mode, la médiane et la moyenne quadratique des distributions."
   ]
  },
  {
   "cell_type": "code",
   "execution_count": null,
   "metadata": {
    "nteract": {
     "transient": {
      "deleting": false
     }
    }
   },
   "outputs": [],
   "source": [
    "v_norm = []\n",
    "v_2 = []\n",
    "v_x = []\n",
    "for elem in vParticule:\n",
    "    v_norm.append(mag(elem))\n",
    "    v_2.append(mag2(elem))\n",
    "    v_x.append(elem.x)\n",
    "\n",
    "v_x = np.array(v_x)\n",
    "v_x_2 = v_x**2\n",
    "\n",
    "v_norm_normalized = np.array(v_norm)/max(v_norm)\n",
    "v_2_normalized = np.array(v_2)/max(v_2)\n",
    "v_x_2_normalized = v_x_2/max(v_x_2)\n",
    "\n",
    "bin_nb = 24\n",
    "bin_range = (0, 1)\n",
    "\n",
    "param_list = []\n",
    "for arr in [v_norm_normalized, v_2_normalized, v_x_2_normalized]:\n",
    "    rms = np.sqrt(np.mean(arr**2))\n",
    "    var_list = [np.mean(arr), mode(arr, axis=None, keepdims=False)[0], np.median(arr), rms]\n",
    "    param_list.append(var_list)\n",
    "\n",
    "i=0\n",
    "for var in param_list:\n",
    "\n",
    "    rounding_list = []\n",
    "    for elem in var:\n",
    "\n",
    "        rounding_list.append(round(elem, 3))\n",
    "    param_list[i] = rounding_list\n",
    "    i += 1\n",
    "\n",
    "fig, ax = plt.subplots(nrows=1, ncols=3, sharex=True, sharey=True)\n",
    "ax[0].hist(v_norm_normalized, bins=bin_nb, alpha=0.5, label=f\" Moyenne = {param_list[0][0]}\\n\"\n",
    "                                               f\" Mode = {param_list[0][1]}\\n Médiane = {param_list[0][2]}\"\n",
    "            f\"\\n RMS = {param_list[0][3]}\", color=\"b\")\n",
    "ax[0].legend(loc=\"upper right\", fontsize=\"11\")\n",
    "ax[0].set_title(r\"Distribution de $||\\vec{v}||$\", fontsize=\"14\")\n",
    "ax[1].hist(v_2_normalized, bins=bin_nb, alpha=0.5, label=f\" Moyenne = {param_list[1][0]}\\n\"\n",
    "                                               f\" Mode = {param_list[1][1]}\\n Médiane = {param_list[1][2]}\"\n",
    "            f\"\\n RMS = {param_list[1][3]}\", color=\"orange\")\n",
    "ax[1].legend(loc=\"upper right\", fontsize=\"11\")\n",
    "ax[1].set_title(r\"Distribution de $v^2$\", fontsize=\"14\")\n",
    "ax[2].hist(v_x_2_normalized, bins=bin_nb, alpha=0.5, label=f\" Moyenne = {param_list[2][0]}\\n\"\n",
    "                                               f\" Mode = {param_list[2][1]}\\n Médiane = {param_list[2][2]}\"\n",
    "            f\"\\n RMS = {param_list[2][3]}\", color=\"g\")\n",
    "ax[2].legend(loc=\"upper right\", fontsize=\"11\")\n",
    "ax[2].set_title(r\"Distribution de $v_x^2$\", fontsize=\"14\")\n",
    "fig.text(0.5, 0.04, 'Amplitude normalisée [-]', ha='center', fontsize=\"16\")\n",
    "fig.text(0.04, 0.5, 'Fréquence [-]', va='center', rotation='vertical', fontsize=\"16\")\n",
    "figManager = plt.get_current_fig_manager()\n",
    "figManager.window.showMaximized()\n",
    "plt.show()\n",
    "#"
   ]
  },
  {
   "cell_type": "markdown",
   "metadata": {},
   "source": [
    "**Bonus.** _(4 points)_ &mdash; Montrez que \n",
    "- (a) le théorème central limite est satisfait par une des distributions de vitesse du numéro précédent,\n",
    "- (b) le système simulé est ergodique."
   ]
  },
  {
   "cell_type": "code",
   "execution_count": null,
   "metadata": {
    "nteract": {
     "transient": {
      "deleting": false
     }
    }
   },
   "outputs": [],
   "source": [
    "#Le théorème central limite dit qu'un ensemble de variables aléatoires indépendantes et identiquement distribuées tend vers\n",
    "#une distribution normale (gaussienne). Parmi les distributions de vitesses du numéro précédent, on remarque que la distribution\n",
    "#de la norme de v ressemble à une distribution de Maxwell-Boltzmann tel qu'attendu. Par contre, la distribution de v_x^2 fait \n",
    "#penser à la moitié d'une distribution gaussienne. Ainsi, on choisit de comparer la distribution de la composante v_x à travers\n",
    "#le temps pour une seule particule à une distribution normale.\n",
    "\n",
    "\n",
    "v_x_normalized = v_x/max(v_x)\n",
    "\n",
    "avg = np.mean(v_x_normalized)\n",
    "var = np.var(v_x_normalized)\n",
    "pdf_x = np.linspace(-1, 1)\n",
    "pdf_y = 1.0 / np.sqrt(2 * np.pi * var) * np.exp(-0.5 * (pdf_x - avg) ** 2 / var)\n",
    "\n",
    "mu, std = norm.fit(v_x_normalized)\n",
    "xmin, xmax = -1, 1\n",
    "x_fitted = np.linspace(xmin, xmax, 100)\n",
    "y_fitted = norm.pdf(x_fitted, mu, std)\n",
    "\n",
    "plt.figure()\n",
    "plt.hist(v_x_normalized, alpha=0.5, bins=bin_nb, range=(-1, 1), density=True, label=\"Données simulées\")\n",
    "plt.plot(pdf_x, pdf_y, '--', color=\"k\", label=\"Ajustement de courbe gaussien\")\n",
    "plt.title(r\"Distribution de $v_x$ pour une particule\", fontsize=\"14\")\n",
    "plt.xlabel('Amplitude normalisée [-]', fontsize=\"16\")\n",
    "plt.ylabel('Fréquence normalisée[-]', fontsize=\"16\")\n",
    "plt.legend(fontsize=\"12\")\n",
    "plt.xticks(fontsize=\"12\")\n",
    "figManager = plt.get_current_fig_manager()\n",
    "figManager.window.showMaximized()\n",
    "plt.show()\n",
    "\n",
    "rms = np.sqrt(np.mean(v_x_normalized**2))\n",
    "var_list = [np.mean(arr), mode(arr, axis=None, keepdims=False)[0], np.median(arr), rms]\n",
    "\n",
    "\n",
    "print(f\"Moyenne = {avg}, Mode = {mode(v_x_normalized, axis=None, keepdims=False)[0]},\"\n",
    "      f\" Médiane = {np.median(v_x_normalized)}, RMS = {rms}, STD = {sqrt(var)}\")\n",
    "\n",
    "#La distribution de v_x tend effectivement vers une distribution gaussienne. Ensuite, on veut montrer que le système est ergodique.\n",
    "#Cela implique que la moyenne d'une distribution d'une variable évoluant dans le temps est égale à la valeur moyenne\n",
    "# d'une distribution d'un grand nombre de variables identiques. On regarde alors si la distribution de v_x de toutes les\n",
    "#particules à un instant donné est identique et retourne la même moyenne.\n",
    "\n",
    "v_x_all = []\n",
    "\n",
    "for elem in vitesse:\n",
    "    v_x_all.append(elem.x)\n",
    "\n",
    "v_x_all_normalized = np.array(v_x_all)/max(v_x_all)\n",
    "\n",
    "avg = np.mean(v_x_all_normalized)\n",
    "var = np.var(v_x_all_normalized)\n",
    "pdf_x = np.linspace(-1, 1)\n",
    "pdf_y = 1.0 / np.sqrt(2 * np.pi * var) * np.exp(-0.5 * (pdf_x - avg) ** 2 / var)\n",
    "\n",
    "mu, std = norm.fit(v_x_all_normalized)\n",
    "xmin, xmax = -1, 1\n",
    "x_fitted = np.linspace(xmin, xmax, 100)\n",
    "y_fitted = norm.pdf(x_fitted, mu, std)\n",
    "\n",
    "plt.figure()\n",
    "plt.hist(v_x_all_normalized, alpha=0.5, bins=bin_nb, range=(-1, 1), density=True, label=\"Données simulées\")\n",
    "plt.plot(pdf_x, pdf_y, '--', color=\"k\", label=\"Ajustement de courbe gaussien\")\n",
    "plt.title(r\"Distribution de $v_x$ à un instant pour toutes les particules\", fontsize=\"14\")\n",
    "plt.xlabel('Amplitude normalisée [-]', fontsize=\"16\")\n",
    "plt.ylabel('Fréquence normalisée[-]', fontsize=\"16\")\n",
    "plt.legend(fontsize=\"12\")\n",
    "plt.xticks(fontsize=\"12\")\n",
    "figManager = plt.get_current_fig_manager()\n",
    "figManager.window.showMaximized()\n",
    "plt.show()\n",
    "\n",
    "rms = np.sqrt(np.mean(v_x_all_normalized**2))\n",
    "var_list = [np.mean(arr), mode(arr, axis=None, keepdims=False)[0], np.median(arr), rms]\n",
    "\n",
    "\n",
    "print(f\"Moyenne = {avg}, Mode = {mode(v_x_all_normalized, axis=None, keepdims=False)[0]},\"\n",
    "      f\" Médiane = {np.median(v_x_all_normalized)}, RMS = {rms}, STD = {sqrt(var)}\")\n",
    "\n",
    "#Dans les deux cas, on obtient des distributions normales possédant à peu près la même moyenne. Le système est ergodique."
   ]
  },
  {
   "cell_type": "markdown",
   "metadata": {
    "nteract": {
     "transient": {
      "deleting": false
     }
    }
   },
   "source": [
    "# Médiagraphie #\n",
    " - La simulation utilise la librairie <a href=\"https://vpython.org\">VPython</a> conçue pour faciliter la visualisation de physique en 3D, avec les instructions d’installation <a href=\"https://vpython.org/presentation2018/install.html\">ici</a> et la documentation <a href=\"https://www.glowscript.org/docs/VPythonDocs/index.html\">ici</a>. Le code adapte en 2D et commente en détail l’exemple <a href=\"https://www.glowscript.org/#/user/GlowScriptDemos/folder/Examples/program/HardSphereGas-VPython\">HardSphereGas-VPython</a> du site interactif <a href=\"https://www.glowscript.org\">GlowScript</a> pour programmer des animations avec VPython directement en ligne."
   ]
  }
 ],
 "metadata": {
  "kernelspec": {
   "display_name": "Python 3 (ipykernel)",
   "language": "python",
   "name": "python3"
  },
  "language_info": {
   "codemirror_mode": {
    "name": "ipython",
    "version": 3
   },
   "file_extension": ".py",
   "mimetype": "text/x-python",
   "name": "python",
   "nbconvert_exporter": "python",
   "pygments_lexer": "ipython3",
   "version": "3.10.9"
  }
 },
 "nbformat": 4,
 "nbformat_minor": 4
}
